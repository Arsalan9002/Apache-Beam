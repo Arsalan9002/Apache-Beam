{
  "nbformat": 4,
  "nbformat_minor": 0,
  "metadata": {
    "colab": {
      "name": "ApacheBeam.ipynb",
      "provenance": [],
      "authorship_tag": "ABX9TyO0onT5PkcLrlcaCHwqWgvd",
      "include_colab_link": true
    },
    "kernelspec": {
      "name": "python3",
      "display_name": "Python 3"
    }
  },
  "cells": [
    {
      "cell_type": "markdown",
      "metadata": {
        "id": "view-in-github",
        "colab_type": "text"
      },
      "source": [
        "<a href=\"https://colab.research.google.com/github/Arsalan9002/Apache-Beam/blob/master/ApacheBeam.ipynb\" target=\"_parent\"><img src=\"https://colab.research.google.com/assets/colab-badge.svg\" alt=\"Open In Colab\"/></a>"
      ]
    },
    {
      "cell_type": "code",
      "metadata": {
        "id": "R4qfGD_7WV5-",
        "colab_type": "code",
        "colab": {}
      },
      "source": [
        "!{'pip install apache-beam[gcp]'}"
      ],
      "execution_count": null,
      "outputs": []
    },
    {
      "cell_type": "code",
      "metadata": {
        "id": "4K7HUODeXM7-",
        "colab_type": "code",
        "colab": {}
      },
      "source": [
        "!{'mkdir -p data'}"
      ],
      "execution_count": 4,
      "outputs": []
    },
    {
      "cell_type": "code",
      "metadata": {
        "id": "nflqsOibUl2A",
        "colab_type": "code",
        "colab": {}
      },
      "source": [
        "!ls"
      ],
      "execution_count": null,
      "outputs": []
    },
    {
      "cell_type": "code",
      "metadata": {
        "id": "A7JVwe6oXtRd",
        "colab_type": "code",
        "colab": {}
      },
      "source": [
        "#to import local files into google colab\n",
        "from google.colab import files\n",
        "uploaded = files.upload()"
      ],
      "execution_count": null,
      "outputs": []
    },
    {
      "cell_type": "code",
      "metadata": {
        "id": "2FUhEf4EmtLM",
        "colab_type": "code",
        "colab": {}
      },
      "source": [
        "!cat dept_data.txt"
      ],
      "execution_count": null,
      "outputs": []
    },
    {
      "cell_type": "code",
      "metadata": {
        "id": "dbGZ4jhAlqL7",
        "colab_type": "code",
        "colab": {}
      },
      "source": [
        "import apache_beam as beam\n",
        "p2 = beam.Pipeline()\n",
        "\n",
        "lines = (\n",
        "      p2\n",
        "      | beam.Create(['Arsalan','Mehmood','Systems Limited','Karachi'])\n",
        "      | beam.io.WriteToText('data/outCreate1')\n",
        ")\n",
        "\n",
        "p2.run()\n",
        "\n",
        "!{('head -n 20 data/outCreate1-00000-of-00001')}"
      ],
      "execution_count": null,
      "outputs": []
    },
    {
      "cell_type": "code",
      "metadata": {
        "id": "ekbp_arHfvuj",
        "colab_type": "code",
        "colab": {}
      },
      "source": [
        "import apache_beam as beam\n",
        "p2 = beam.Pipeline()\n",
        "\n",
        "lines = (\n",
        "      p2\n",
        "      | beam.Create({'row1':[1,2,3,4,5],\n",
        "                     'row2':[6,7,8,9]\n",
        "                     })\n",
        "      | beam.io.WriteToText('data/outCreate1')\n",
        ")\n",
        "\n",
        "p2.run()\n",
        "\n",
        "!{('head -n 20 data/outCreate1-00000-of-00001')}"
      ],
      "execution_count": null,
      "outputs": []
    },
    {
      "cell_type": "code",
      "metadata": {
        "id": "JnBDSEOslUdA",
        "colab_type": "code",
        "colab": {}
      },
      "source": [
        "#create a pipeline to show the attendance count of each employee of finance department\n",
        "import apache_beam as beam\n",
        "\n",
        "p1 = beam.Pipeline()\n",
        "\n",
        "attendance_count = (\n",
        "    p1\n",
        "    | 'Reading dept data' >> beam.io.ReadFromText('dept_data.txt')\n",
        "    | 'Splitting records' >> beam.Map(lambda x: x.split(','))\n",
        "    | 'Filtering Accounts dept' >> beam.Filter(lambda x: x[3]=='Accounts')\n",
        "    | 'Creating Key value pairs' >> beam.Map(lambda x: (x[1],1))\n",
        "    | 'Grouping & counting Keys' >> beam.CombinePerKey(sum)\n",
        "    | 'Writing to file' >> beam.io.WriteToText('data/output_new_final')\n",
        ")\n",
        "\n",
        "p1.run()\n",
        "\n",
        "!{('head -n 20 data/output_new_final-00000-of-00001')}"
      ],
      "execution_count": null,
      "outputs": []
    },
    {
      "cell_type": "code",
      "metadata": {
        "id": "PGIvnwhX0BX7",
        "colab_type": "code",
        "colab": {}
      },
      "source": [
        "#to view the output file\n",
        "!cat data/output_new_final-00000-of-00001"
      ],
      "execution_count": null,
      "outputs": []
    },
    {
      "cell_type": "code",
      "metadata": {
        "id": "Gf-1XjB_usrx",
        "colab_type": "code",
        "colab": {}
      },
      "source": [
        "#branching pipelines\n",
        "import apache_beam as beam\n",
        "\n",
        "with beam.Pipeline() as p:\n",
        "  input_collection = (\n",
        "      p\n",
        "      | 'reading department data' >> beam.io.ReadFromText('dept_data.txt')\n",
        "      | 'split rows' >> beam.Map(lambda x: x.split(','))\n",
        "  )\n",
        "\n",
        "  accounts_attendance = (\n",
        "      input_collection\n",
        "      | 'filter for accounts' >> beam.Filter(lambda x: x[3]=='Accounts')\n",
        "      | 'pair each accounts employee with 1' >> beam.Map(lambda x: (\"Accounts, \" + x[1],1))\n",
        "      | 'Grouping and Sum1' >> beam.CombinePerKey(sum)\n",
        "  )\n",
        "\n",
        "  hr_attendance = (\n",
        "      input_collection\n",
        "      | 'filter for HR' >> beam.Filter(lambda x: x[3]=='HR')\n",
        "      | 'pair each HR employee with 1' >> beam.Map(lambda x: (\"HR, \"+x[1],1))\n",
        "      | 'Grouping and Sum' >> beam.CombinePerKey(sum)\n",
        "  )\n",
        "\n",
        "  output = (\n",
        "      (accounts_attendance, hr_attendance)\n",
        "      | 'Merging two PCollections' >> beam.Flatten()\n",
        "      | 'Writing output' >> beam.io.WriteToText(\"data/attendance_results\")\n",
        "  )\n",
        "\n",
        "\n",
        "!{('head -n 20 data/attendance_results-00000-of-00001')}"
      ],
      "execution_count": null,
      "outputs": []
    },
    {
      "cell_type": "code",
      "metadata": {
        "id": "qJk86i7L0_Bu",
        "colab_type": "code",
        "colab": {}
      },
      "source": [
        "#word count exmaple\n",
        "import apache_beam as beam\n",
        "import re\n",
        "\n",
        "#https://regex101.com/\n",
        "def regex(element):\n",
        "  x=element\n",
        "  y = re.sub(r\"[^a-zA-Z0-9]+\", '', x)\n",
        "  return y\n",
        "\n",
        "p = beam.Pipeline()\n",
        "\n",
        "word_count = (\n",
        "    p\n",
        "    | 'Read from file' >> beam.io.ReadFromText('data.txt')\n",
        "    | 'Split words' >> beam.FlatMap(lambda x: x.split(\" \"))\n",
        "    | 'split tabs' >> beam.FlatMap(lambda x: x.split(\"\\t\"))\n",
        "    | 'trim' >> beam.Map(lambda x: x.strip()) #for safer side\n",
        "    | 'remove empty elements' >> beam.Filter(lambda x: not re.match(r'^\\s*$', x))\n",
        "    | 'removing special characters' >> beam.Map(regex)\n",
        "    | 'emitting 1 for every unique word' >> beam.Map(lambda x: (x,1))\n",
        "    | 'reducing & summing' >> beam.CombinePerKey(sum)\n",
        "    | 'Write output to file' >> beam.io.WriteToText(\"data/output_wordcount\")\n",
        "\n",
        ")\n",
        "\n",
        "p.run()\n",
        "\n",
        "!head -n 20 data/output_wordcount*"
      ],
      "execution_count": null,
      "outputs": []
    },
    {
      "cell_type": "code",
      "metadata": {
        "id": "MjiXtQ_7xSe5",
        "colab_type": "code",
        "colab": {}
      },
      "source": [
        "#ParDo behavior\n",
        "import apache_beam as beam\n",
        "\n",
        "class SplitRow(beam.DoFn):\n",
        "  #override process function\n",
        "  def process(self,element):\n",
        "    #returning list since this can return one or more outputs\n",
        "    return [element.split(',')]\n",
        "\n",
        "p = beam.Pipeline()\n",
        "\n",
        "attendance_count = (\n",
        "    p\n",
        "    | beam.io.ReadFromText('dept_data.txt')\n",
        "    | beam.ParDo(SplitRow())\n",
        "    | beam.io.WriteToText(\"data/pardo_output\")\n",
        ")\n",
        "\n",
        "p.run()\n",
        " \n",
        "!{('head -n 20 data/pardo_output-00000-of-00001')}"
      ],
      "execution_count": null,
      "outputs": []
    }
  ]
}